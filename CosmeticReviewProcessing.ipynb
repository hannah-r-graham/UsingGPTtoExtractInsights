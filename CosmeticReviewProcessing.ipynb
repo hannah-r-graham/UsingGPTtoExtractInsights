{
 "cells": [
  {
   "cell_type": "code",
   "execution_count": 1,
   "metadata": {},
   "outputs": [],
   "source": [
    "# import necessary packages\n",
    "import pandas as pd\n",
    "import os\n",
    "from openai import AzureOpenAI\n",
    "from dotenv import load_dotenv\n",
    "import json"
   ]
  },
  {
   "cell_type": "code",
   "execution_count": 2,
   "metadata": {},
   "outputs": [
    {
     "name": "stderr",
     "output_type": "stream",
     "text": [
      "C:\\Users\\hagraham\\AppData\\Local\\Temp\\ipykernel_33732\\1791942424.py:2: DtypeWarning: Columns (15,16,17,18,19,20) have mixed types. Specify dtype option on import or set low_memory=False.\n",
      "  reviews = pd.read_csv('cleaned_makeup_reviews.csv', index_col=0)\n"
     ]
    }
   ],
   "source": [
    "#import the data we will be working with later\n",
    "reviews = pd.read_csv('cleaned_makeup_reviews.csv', index_col=0)\n",
    "reviews = pd.DataFrame(reviews)"
   ]
  },
  {
   "cell_type": "code",
   "execution_count": 3,
   "metadata": {},
   "outputs": [
    {
     "name": "stdout",
     "output_type": "stream",
     "text": [
      "Index(['product_link_id', 'review_id', 'type', 'id', 'ugc_id', 'legacy_id',\n",
      "       'internal_review_id', 'headline', 'nickname', 'created_date',\n",
      "       'updated_date', 'rating', 'helpful_votes', 'not_helpful_votes', 'uri',\n",
      "       'comments', 'locale', 'location', 'bottom_line', 'product_page_id',\n",
      "       'upc', 'gtin', 'is_staff_reviewer', 'is_verified_buyer',\n",
      "       'is_verified_reviewer', 'helpful_score'],\n",
      "      dtype='object')\n",
      "                  product_link_id  review_id   type           id  ugc_id  \\\n",
      "unique_review_id                                                           \n",
      "1                               8  521867580  image  521867563.0     NaN   \n",
      "2                               8  485614895  image  485614799.0     NaN   \n",
      "3                               8  485250956  image  485250927.0     NaN   \n",
      "4                               8  485086522  video  485086531.0     NaN   \n",
      "5                               8  482905142  image  482905180.0     NaN   \n",
      "\n",
      "                  legacy_id  internal_review_id                    headline  \\\n",
      "unique_review_id                                                              \n",
      "1                       NaN                  -1                  2C3 Fresco   \n",
      "2                       NaN                  -1               Glowing Skin!   \n",
      "3                       NaN                  -1                     Love it   \n",
      "4                       NaN                  -1  Horrible allergic reaction   \n",
      "5                       NaN                  -1          Futurist Skin tint   \n",
      "\n",
      "                    nickname            created_date  ... locale  location  \\\n",
      "unique_review_id                                      ...                    \n",
      "1                     Dinara  2024-06-06 02:54:07-04  ...    NaN       NaN   \n",
      "2                    Stephie  2023-12-21 20:57:40-05  ...    NaN       NaN   \n",
      "3                  Cgbanks30  2023-12-18 21:31:30-05  ...    NaN       NaN   \n",
      "4                      Genny  2023-12-17 03:05:33-05  ...    NaN       NaN   \n",
      "5                 Santro3822  2023-12-01 12:16:23-05  ...    NaN       NaN   \n",
      "\n",
      "                  bottom_line  product_page_id upc gtin is_staff_reviewer  \\\n",
      "unique_review_id                                                            \n",
      "1                         NaN              NaN NaN  NaN                 f   \n",
      "2                         NaN              NaN NaN  NaN                 f   \n",
      "3                         NaN              NaN NaN  NaN                 f   \n",
      "4                         NaN              NaN NaN  NaN                 f   \n",
      "5                         NaN              NaN NaN  NaN                 f   \n",
      "\n",
      "                 is_verified_buyer is_verified_reviewer helpful_score  \n",
      "unique_review_id                                                       \n",
      "1                                f                    f            -1  \n",
      "2                                f                    f            -1  \n",
      "3                                f                    f            -1  \n",
      "4                                f                    f            -1  \n",
      "5                                f                    f            -1  \n",
      "\n",
      "[5 rows x 26 columns]\n"
     ]
    }
   ],
   "source": [
    "print(reviews.columns)\n",
    "print(reviews.head())\n"
   ]
  },
  {
   "cell_type": "code",
   "execution_count": 4,
   "metadata": {},
   "outputs": [],
   "source": [
    "# create a new dataframe with only the columns we need\n",
    "columns = ['product_link_id', 'review_id', 'comments']\n",
    "reviewsFocused = reviews[columns]"
   ]
  },
  {
   "cell_type": "code",
   "execution_count": 5,
   "metadata": {},
   "outputs": [
    {
     "name": "stdout",
     "output_type": "stream",
     "text": [
      "261865\n"
     ]
    }
   ],
   "source": [
    "print(reviewsFocused['comments'].isnull().sum())"
   ]
  },
  {
   "cell_type": "code",
   "execution_count": 6,
   "metadata": {},
   "outputs": [
    {
     "data": {
      "text/html": [
       "<div>\n",
       "<style scoped>\n",
       "    .dataframe tbody tr th:only-of-type {\n",
       "        vertical-align: middle;\n",
       "    }\n",
       "\n",
       "    .dataframe tbody tr th {\n",
       "        vertical-align: top;\n",
       "    }\n",
       "\n",
       "    .dataframe thead th {\n",
       "        text-align: right;\n",
       "    }\n",
       "</style>\n",
       "<table border=\"1\" class=\"dataframe\">\n",
       "  <thead>\n",
       "    <tr style=\"text-align: right;\">\n",
       "      <th></th>\n",
       "      <th>product_link_id</th>\n",
       "      <th>review_id</th>\n",
       "      <th>comments</th>\n",
       "    </tr>\n",
       "    <tr>\n",
       "      <th>unique_review_id</th>\n",
       "      <th></th>\n",
       "      <th></th>\n",
       "      <th></th>\n",
       "    </tr>\n",
       "  </thead>\n",
       "  <tbody>\n",
       "    <tr>\n",
       "      <th>261850</th>\n",
       "      <td>8</td>\n",
       "      <td>525372766</td>\n",
       "      <td>it was very oily.    Would like very much to b...</td>\n",
       "    </tr>\n",
       "    <tr>\n",
       "      <th>261851</th>\n",
       "      <td>8</td>\n",
       "      <td>524734115</td>\n",
       "      <td>This is a wonderful foundation for mature skin...</td>\n",
       "    </tr>\n",
       "    <tr>\n",
       "      <th>261852</th>\n",
       "      <td>8</td>\n",
       "      <td>524636927</td>\n",
       "      <td>I loved this. Gave me a hint of color with a g...</td>\n",
       "    </tr>\n",
       "    <tr>\n",
       "      <th>261853</th>\n",
       "      <td>8</td>\n",
       "      <td>524362071</td>\n",
       "      <td>This liquid foundation is like essence liquid,...</td>\n",
       "    </tr>\n",
       "    <tr>\n",
       "      <th>261854</th>\n",
       "      <td>8</td>\n",
       "      <td>523262050</td>\n",
       "      <td>Finally! A lightweight face product with just ...</td>\n",
       "    </tr>\n",
       "    <tr>\n",
       "      <th>...</th>\n",
       "      <td>...</td>\n",
       "      <td>...</td>\n",
       "      <td>...</td>\n",
       "    </tr>\n",
       "    <tr>\n",
       "      <th>314025</th>\n",
       "      <td>1135</td>\n",
       "      <td>525249842</td>\n",
       "      <td>I have to keep this out of my makeup bag becau...</td>\n",
       "    </tr>\n",
       "    <tr>\n",
       "      <th>314026</th>\n",
       "      <td>1135</td>\n",
       "      <td>524832825</td>\n",
       "      <td>While I like the contour, the applicator is me...</td>\n",
       "    </tr>\n",
       "    <tr>\n",
       "      <th>314027</th>\n",
       "      <td>1135</td>\n",
       "      <td>524524028</td>\n",
       "      <td>Ive had this product for months and it never r...</td>\n",
       "    </tr>\n",
       "    <tr>\n",
       "      <th>314028</th>\n",
       "      <td>1135</td>\n",
       "      <td>524524101</td>\n",
       "      <td>Amazing and it stays! One dot goes a long way ...</td>\n",
       "    </tr>\n",
       "    <tr>\n",
       "      <th>314029</th>\n",
       "      <td>1135</td>\n",
       "      <td>523799264</td>\n",
       "      <td>I loved tge product overall but it turns out t...</td>\n",
       "    </tr>\n",
       "  </tbody>\n",
       "</table>\n",
       "<p>52164 rows × 3 columns</p>\n",
       "</div>"
      ],
      "text/plain": [
       "                  product_link_id  review_id  \\\n",
       "unique_review_id                               \n",
       "261850                          8  525372766   \n",
       "261851                          8  524734115   \n",
       "261852                          8  524636927   \n",
       "261853                          8  524362071   \n",
       "261854                          8  523262050   \n",
       "...                           ...        ...   \n",
       "314025                       1135  525249842   \n",
       "314026                       1135  524832825   \n",
       "314027                       1135  524524028   \n",
       "314028                       1135  524524101   \n",
       "314029                       1135  523799264   \n",
       "\n",
       "                                                           comments  \n",
       "unique_review_id                                                     \n",
       "261850            it was very oily.    Would like very much to b...  \n",
       "261851            This is a wonderful foundation for mature skin...  \n",
       "261852            I loved this. Gave me a hint of color with a g...  \n",
       "261853            This liquid foundation is like essence liquid,...  \n",
       "261854            Finally! A lightweight face product with just ...  \n",
       "...                                                             ...  \n",
       "314025            I have to keep this out of my makeup bag becau...  \n",
       "314026            While I like the contour, the applicator is me...  \n",
       "314027            Ive had this product for months and it never r...  \n",
       "314028            Amazing and it stays! One dot goes a long way ...  \n",
       "314029            I loved tge product overall but it turns out t...  \n",
       "\n",
       "[52164 rows x 3 columns]"
      ]
     },
     "execution_count": 6,
     "metadata": {},
     "output_type": "execute_result"
    }
   ],
   "source": [
    "#remove reviews without comments\n",
    "reviewsFocused = reviewsFocused.dropna()\n",
    "reviewsFocused"
   ]
  },
  {
   "cell_type": "code",
   "execution_count": 7,
   "metadata": {},
   "outputs": [],
   "source": [
    "#select 10 rows/reviews at random to test how the api responds with our prompt\n",
    "test_reviews = reviewsFocused.sample(10)"
   ]
  },
  {
   "cell_type": "code",
   "execution_count": 8,
   "metadata": {},
   "outputs": [],
   "source": [
    "# Create prompt info for the API\n",
    "context = \"You are a data analyst assistant for understanding reviews for products at a cosmetics company.\"\n",
    "prompt = '''your entire response/output is going to consist of a single JSON array, and you will NOT wrap it within JSON md markers. Response should be valid JSON.\n",
    "            Given the following reviews, state for each review if the product is related to color in any way. Output should look like: unique_review_id, topics,  color_related: boolean. \n",
    "            Example: [{ review_id: 1, topics: [\"some topic\"], color_related: true }]\n",
    "            '''"
   ]
  },
  {
   "cell_type": "code",
   "execution_count": 9,
   "metadata": {},
   "outputs": [],
   "source": [
    "#test your access to open ai model is working before we try anything fancy\n",
    "load_dotenv(override=True)\n",
    "\n",
    "client = AzureOpenAI(\n",
    "        api_key = os.getenv('AZURE_OPENAI_KEY'),\n",
    "        azure_endpoint = os.getenv('AZURE_OPENAI_ENDPOINT'),\n",
    "        api_version = os.getenv('API_VERSION')\n",
    "        \n",
    "        )"
   ]
  },
  {
   "cell_type": "code",
   "execution_count": 10,
   "metadata": {},
   "outputs": [
    {
     "name": "stdout",
     "output_type": "stream",
     "text": [
      "[\n",
      "    {\n",
      "        \"review_id\": 514073427,\n",
      "        \"topics\": [\"application\", \"usage\"],\n",
      "        \"color_related\": false\n",
      "    },\n",
      "    {\n",
      "        \"review_id\": 446482126,\n",
      "        \"topics\": [\"product quality\", \"customer service\"],\n",
      "        \"color_related\": false\n",
      "    }\n",
      "]\n",
      "[\n",
      "    {\n",
      "        \"review_id\": 414037776,\n",
      "        \"topics\": [\"shade\", \"shimmer\", \"skintone\", \"long lasting\", \"double cleanse\"],\n",
      "        \"color_related\": true\n",
      "    },\n",
      "    {\n",
      "        \"review_id\": 469398844,\n",
      "        \"topics\": [\"highlighter\", \"clients\", \"skin\", \"lasting\"],\n",
      "        \"color_related\": false\n",
      "    }\n",
      "]\n",
      "[\n",
      "    {\n",
      "        \"review_id\": 523941344,\n",
      "        \"topics\": [\"dry skin\", \"hype\"],\n",
      "        \"color_related\": false\n",
      "    },\n",
      "    {\n",
      "        \"review_id\": 507237170,\n",
      "        \"topics\": [\"shade\", \"long lasting\", \"concealer\", \"brighten effect\"],\n",
      "        \"color_related\": true\n",
      "    }\n",
      "]\n",
      "[\n",
      "    {\n",
      "        \"review_id\": 486521818,\n",
      "        \"topics\": [\"blush\", \"makeup routine\", \"application technique\"],\n",
      "        \"color_related\": true\n",
      "    },\n",
      "    {\n",
      "        \"review_id\": 498168998,\n",
      "        \"topics\": [\"redness reduction\", \"makeup setting\"],\n",
      "        \"color_related\": false\n",
      "    }\n",
      "]\n",
      "[\n",
      "    {\n",
      "        \"review_id\": 425051392,\n",
      "        \"topics\": [\"makeup\", \"texture\", \"color\", \"blendable\", \"comfortable\"],\n",
      "        \"color_related\": true\n",
      "    },\n",
      "    {\n",
      "        \"review_id\": 522365720,\n",
      "        \"topics\": [\"light coverage\", \"sunscreen protection\", \"natural look\"],\n",
      "        \"color_related\": false\n",
      "    }\n",
      "]\n",
      "[{'review_id': 514073427, 'topics': ['application', 'usage'], 'color_related': False}, {'review_id': 446482126, 'topics': ['product quality', 'customer service'], 'color_related': False}, {'review_id': 414037776, 'topics': ['shade', 'shimmer', 'skintone', 'long lasting', 'double cleanse'], 'color_related': True}, {'review_id': 469398844, 'topics': ['highlighter', 'clients', 'skin', 'lasting'], 'color_related': False}, {'review_id': 523941344, 'topics': ['dry skin', 'hype'], 'color_related': False}, {'review_id': 507237170, 'topics': ['shade', 'long lasting', 'concealer', 'brighten effect'], 'color_related': True}, {'review_id': 486521818, 'topics': ['blush', 'makeup routine', 'application technique'], 'color_related': True}, {'review_id': 498168998, 'topics': ['redness reduction', 'makeup setting'], 'color_related': False}, {'review_id': 425051392, 'topics': ['makeup', 'texture', 'color', 'blendable', 'comfortable'], 'color_related': True}, {'review_id': 522365720, 'topics': ['light coverage', 'sunscreen protection', 'natural look'], 'color_related': False}]\n"
     ]
    }
   ],
   "source": [
    "import json\n",
    "import pandas as pd\n",
    "\n",
    "def send_reviews_toGPT(data, n, context, prompt):\n",
    "    collected_contents = []\n",
    "    for i in range(0, len(data), n):\n",
    "        batch = data[i:i+n]\n",
    "        batch_rows = []\n",
    "        for index, row in batch.iterrows():\n",
    "            row_string = \", \".join([f\"{column}: {row[column]}\" for column in data.columns])\n",
    "            batch_rows.append(row_string)\n",
    "        \n",
    "        batch_content = \"\\n\".join(batch_rows)\n",
    "\n",
    "        try:          \n",
    "            response = client.chat.completions.create(\n",
    "                model=\"gpt-4o\",\n",
    "                messages=[\n",
    "                    {\"role\": \"system\", \n",
    "                        \"content\": context},\n",
    "                    {\"role\": \"user\", \n",
    "                        \"content\": f\"{prompt}\\n\\nData:\\n{batch_content}\"}\n",
    "                ],\n",
    "                temperature=0.0\n",
    "\n",
    "            )\n",
    "            \n",
    "            print(response.choices[0].message.content)\n",
    "            responses = json.loads(response.choices[0].message.content)\n",
    "\n",
    "            # Save collected content to list\n",
    "            collected_contents.extend(responses)\n",
    "        except Exception as e:\n",
    "            print(f'API Call Failed: {str(e)}')\n",
    "\n",
    "    # Print all collected contents\n",
    "    print(collected_contents)\n",
    "\n",
    "    # Return all collected contents as a JSON array\n",
    "    return collected_contents\n",
    "\n",
    "# Example usage\n",
    "results = send_reviews_toGPT(test_reviews, 2, context, prompt)\n"
   ]
  },
  {
   "cell_type": "code",
   "execution_count": 11,
   "metadata": {},
   "outputs": [
    {
     "data": {
      "text/plain": [
       "[{'review_id': 514073427,\n",
       "  'topics': ['application', 'usage'],\n",
       "  'color_related': False},\n",
       " {'review_id': 446482126,\n",
       "  'topics': ['product quality', 'customer service'],\n",
       "  'color_related': False},\n",
       " {'review_id': 414037776,\n",
       "  'topics': ['shade', 'shimmer', 'skintone', 'long lasting', 'double cleanse'],\n",
       "  'color_related': True},\n",
       " {'review_id': 469398844,\n",
       "  'topics': ['highlighter', 'clients', 'skin', 'lasting'],\n",
       "  'color_related': False},\n",
       " {'review_id': 523941344,\n",
       "  'topics': ['dry skin', 'hype'],\n",
       "  'color_related': False},\n",
       " {'review_id': 507237170,\n",
       "  'topics': ['shade', 'long lasting', 'concealer', 'brighten effect'],\n",
       "  'color_related': True},\n",
       " {'review_id': 486521818,\n",
       "  'topics': ['blush', 'makeup routine', 'application technique'],\n",
       "  'color_related': True},\n",
       " {'review_id': 498168998,\n",
       "  'topics': ['redness reduction', 'makeup setting'],\n",
       "  'color_related': False},\n",
       " {'review_id': 425051392,\n",
       "  'topics': ['makeup', 'texture', 'color', 'blendable', 'comfortable'],\n",
       "  'color_related': True},\n",
       " {'review_id': 522365720,\n",
       "  'topics': ['light coverage', 'sunscreen protection', 'natural look'],\n",
       "  'color_related': False}]"
      ]
     },
     "execution_count": 11,
     "metadata": {},
     "output_type": "execute_result"
    }
   ],
   "source": [
    "results"
   ]
  },
  {
   "cell_type": "code",
   "execution_count": 12,
   "metadata": {},
   "outputs": [
    {
     "name": "stdout",
     "output_type": "stream",
     "text": [
      "   review_id                                             topics  color_related\n",
      "0  514073427                               [application, usage]          False\n",
      "1  446482126                [product quality, customer service]          False\n",
      "2  414037776  [shade, shimmer, skintone, long lasting, doubl...           True\n",
      "3  469398844              [highlighter, clients, skin, lasting]          False\n",
      "4  523941344                                   [dry skin, hype]          False\n",
      "5  507237170  [shade, long lasting, concealer, brighten effect]           True\n",
      "6  486521818     [blush, makeup routine, application technique]           True\n",
      "7  498168998                [redness reduction, makeup setting]          False\n",
      "8  425051392   [makeup, texture, color, blendable, comfortable]           True\n",
      "9  522365720  [light coverage, sunscreen protection, natural...          False\n"
     ]
    }
   ],
   "source": [
    "df = pd.DataFrame(results)\n",
    "print(df)"
   ]
  },
  {
   "cell_type": "code",
   "execution_count": 13,
   "metadata": {},
   "outputs": [],
   "source": [
    "df.to_csv('test_results.csv', index=False)"
   ]
  }
 ],
 "metadata": {
  "kernelspec": {
   "display_name": "Python 3",
   "language": "python",
   "name": "python3"
  },
  "language_info": {
   "codemirror_mode": {
    "name": "ipython",
    "version": 3
   },
   "file_extension": ".py",
   "mimetype": "text/x-python",
   "name": "python",
   "nbconvert_exporter": "python",
   "pygments_lexer": "ipython3",
   "version": "3.11.9"
  }
 },
 "nbformat": 4,
 "nbformat_minor": 2
}
